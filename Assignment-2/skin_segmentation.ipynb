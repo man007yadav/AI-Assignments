{
  "nbformat": 4,
  "nbformat_minor": 0,
  "metadata": {
    "colab": {
      "name": "skin-segmentation.ipynb",
      "version": "0.3.2",
      "views": {},
      "default_view": {},
      "provenance": [],
      "collapsed_sections": []
    },
    "kernelspec": {
      "name": "python2",
      "display_name": "Python 2"
    },
    "accelerator": "GPU"
  },
  "cells": [
    {
      "metadata": {
        "id": "kDSsmYER1unQ",
        "colab_type": "code",
        "colab": {
          "autoexec": {
            "startup": false,
            "wait_interval": 0
          }
        }
      },
      "cell_type": "code",
      "source": [
        " !pip install -U -q PyDrive ## you will have install for every colab session"
      ],
      "execution_count": 0,
      "outputs": []
    },
    {
      "metadata": {
        "id": "X8TWvHE83YQY",
        "colab_type": "code",
        "colab": {
          "autoexec": {
            "startup": false,
            "wait_interval": 0
          }
        }
      },
      "cell_type": "code",
      "source": [
        "from pydrive.auth import GoogleAuth\n",
        "from pydrive.drive import GoogleDrive\n",
        "from google.colab import auth\n",
        "from oauth2client.client import GoogleCredentials\n",
        "\n",
        "# 1. Authenticate and create the PyDrive client.\n",
        "auth.authenticate_user()\n",
        "gauth = GoogleAuth()\n",
        "gauth.credentials = GoogleCredentials.get_application_default()\n",
        "drive = GoogleDrive(gauth)"
      ],
      "execution_count": 0,
      "outputs": []
    },
    {
      "metadata": {
        "id": "P4-nCSoe4OWX",
        "colab_type": "code",
        "colab": {
          "autoexec": {
            "startup": false,
            "wait_interval": 0
          }
        }
      },
      "cell_type": "code",
      "source": [
        "import os\n",
        "import numpy as np\n",
        "from keras.optimizers import Adam, SGD\n",
        "from keras.callbacks import ModelCheckpoint\n",
        "from keras import backend as K\n",
        "from keras.preprocessing.image import ImageDataGenerator\n",
        "import matplotlib.pyplot as plt\n",
        "import pickle as pkl\n",
        "import h5py\n",
        "import numpy as np\n",
        "from keras.callbacks import ReduceLROnPlateau, CSVLogger, EarlyStopping, TensorBoard,Callback\n",
        "from keras.models import Model\n",
        "from keras.layers import merge, Flatten, Dense, Input, Dropout, Activation, Reshape\n",
        "from keras.layers import Conv2D, MaxPooling2D, ZeroPadding2D, UpSampling2D\n",
        "from keras.layers import BatchNormalization\n",
        "from keras.layers.noise import GaussianNoise\n",
        "np.random.seed(4)\n",
        "K.set_image_dim_ordering('th')"
      ],
      "execution_count": 0,
      "outputs": []
    },
    {
      "metadata": {
        "id": "MmjSvqPo3oqs",
        "colab_type": "code",
        "colab": {
          "autoexec": {
            "startup": false,
            "wait_interval": 0
          }
        }
      },
      "cell_type": "code",
      "source": [
        "json_import = drive.CreateFile({'id':'11_s04x0bjQLEpAU-mdbNIqTzMMUWUSHh'})\n",
        "json_import.GetContentFile('train.npy')\n",
        "train = np.load('train.npy')\n",
        "json_import = drive.CreateFile({'id':'1VDVO_aChOxUvQs_DRzYGn3plwgMrkrLR'})\n",
        "json_import.GetContentFile('train_mask.npy')\n",
        "train_mask = np.load('train_mask.npy')"
      ],
      "execution_count": 0,
      "outputs": []
    },
    {
      "metadata": {
        "id": "bxvEBAYK4V4b",
        "colab_type": "code",
        "colab": {
          "autoexec": {
            "startup": false,
            "wait_interval": 0
          },
          "base_uri": "https://localhost:8080/",
          "height": 34
        },
        "outputId": "24da9810-a5d9-4176-ca17-824559e13485",
        "executionInfo": {
          "status": "ok",
          "timestamp": 1523256486190,
          "user_tz": -330,
          "elapsed": 963,
          "user": {
            "displayName": "Manoj Yadav",
            "photoUrl": "//lh3.googleusercontent.com/-3TirNiF73Uo/AAAAAAAAAAI/AAAAAAAABk4/_AePPFWcRMc/s50-c-k-no/photo.jpg",
            "userId": "109114430547138668616"
          }
        }
      },
      "cell_type": "code",
      "source": [
        "train.shape,train_mask.shape"
      ],
      "execution_count": 5,
      "outputs": [
        {
          "output_type": "execute_result",
          "data": {
            "text/plain": [
              "((1279, 3, 128, 128), (1279, 1, 128, 128))"
            ]
          },
          "metadata": {
            "tags": []
          },
          "execution_count": 5
        }
      ]
    },
    {
      "metadata": {
        "id": "0MzrCg1kcMEm",
        "colab_type": "code",
        "colab": {
          "autoexec": {
            "startup": false,
            "wait_interval": 0
          }
        }
      },
      "cell_type": "code",
      "source": [
        "json_import = drive.CreateFile({'id':'14R6ZLGIg6VVH363dj4tAo7c3lBQW6Rnh'})\n",
        "json_import.GetContentFile('val.npy')\n",
        "val = np.load('val.npy')\n",
        "json_import = drive.CreateFile({'id':'1Qt6XwBGK3WszQHvN71XkZqGNFSsIkD4T'})\n",
        "json_import.GetContentFile('val_mask.npy')\n",
        "val_mask = np.load('val_mask.npy')"
      ],
      "execution_count": 0,
      "outputs": []
    },
    {
      "metadata": {
        "id": "94bx2AZi4eQX",
        "colab_type": "code",
        "colab": {
          "autoexec": {
            "startup": false,
            "wait_interval": 0
          },
          "base_uri": "https://localhost:8080/",
          "height": 34
        },
        "outputId": "9f5a8d93-81d3-4365-8ed1-1fa35db8cbca",
        "executionInfo": {
          "status": "ok",
          "timestamp": 1523256491243,
          "user_tz": -330,
          "elapsed": 1417,
          "user": {
            "displayName": "Manoj Yadav",
            "photoUrl": "//lh3.googleusercontent.com/-3TirNiF73Uo/AAAAAAAAAAI/AAAAAAAABk4/_AePPFWcRMc/s50-c-k-no/photo.jpg",
            "userId": "109114430547138668616"
          }
        }
      },
      "cell_type": "code",
      "source": [
        "val.shape,val_mask.shape"
      ],
      "execution_count": 7,
      "outputs": [
        {
          "output_type": "execute_result",
          "data": {
            "text/plain": [
              "((320, 3, 128, 128), (320, 1, 128, 128))"
            ]
          },
          "metadata": {
            "tags": []
          },
          "execution_count": 7
        }
      ]
    },
    {
      "metadata": {
        "id": "cQzr9Gti4iTE",
        "colab_type": "code",
        "colab": {
          "autoexec": {
            "startup": false,
            "wait_interval": 0
          }
        }
      },
      "cell_type": "code",
      "source": [
        "json_import = drive.CreateFile({'id':'1JGej9IwAWk6N6y6_d4AzPiJgfXUYE4Gb'})\n",
        "json_import.GetContentFile('test.npy')\n",
        "test = np.load('test.npy')\n",
        "json_import = drive.CreateFile({'id':'1BM3PGKXkyoTgq8MfVGgIvDBzTWSobGsJ'})\n",
        "json_import.GetContentFile('test_mask.npy')\n",
        "test_mask = np.load('test_mask.npy')"
      ],
      "execution_count": 0,
      "outputs": []
    },
    {
      "metadata": {
        "id": "gjc3e5YM5HEL",
        "colab_type": "code",
        "colab": {
          "autoexec": {
            "startup": false,
            "wait_interval": 0
          },
          "base_uri": "https://localhost:8080/",
          "height": 34
        },
        "outputId": "3f21f9c1-693f-4fe8-e4ef-6cc1a5e30395",
        "executionInfo": {
          "status": "ok",
          "timestamp": 1523256495846,
          "user_tz": -330,
          "elapsed": 1020,
          "user": {
            "displayName": "Manoj Yadav",
            "photoUrl": "//lh3.googleusercontent.com/-3TirNiF73Uo/AAAAAAAAAAI/AAAAAAAABk4/_AePPFWcRMc/s50-c-k-no/photo.jpg",
            "userId": "109114430547138668616"
          }
        }
      },
      "cell_type": "code",
      "source": [
        "test.shape,test_mask.shape"
      ],
      "execution_count": 9,
      "outputs": [
        {
          "output_type": "execute_result",
          "data": {
            "text/plain": [
              "((401, 3, 128, 128), (401, 1, 128, 128))"
            ]
          },
          "metadata": {
            "tags": []
          },
          "execution_count": 9
        }
      ]
    },
    {
      "metadata": {
        "id": "RBpDaIQA5MOX",
        "colab_type": "code",
        "colab": {
          "autoexec": {
            "startup": false,
            "wait_interval": 0
          }
        }
      },
      "cell_type": "code",
      "source": [
        "seed = 1\n",
        "height, width = 128, 128\n",
        "nb_epoch = 20\n",
        "model_name = \"model1\"\n",
        "\n",
        "do_train = True\n",
        "do_predict = True \n",
        "model = 'unet'\n",
        "batch_size = 4\n",
        "loss_param = 'BCE'\n",
        "optimizer_param = 'adam'\n",
        "monitor_metric = 'val_acc'\n",
        "fc_size = 2048\n",
        "mean_type = 'imagenet'\n",
        "rescale_mask = True\n",
        "use_hsv = False\n",
        "dataset='isic' \n",
        "initial_epoch = 0 \n",
        "\n",
        "metrics = ['acc']\n",
        "if use_hsv:\n",
        "    n_channels = 6\n",
        "    print \"Using HSV\"\n",
        "else:\n",
        "    n_channels = 3\n",
        "\n",
        "remove_mean_imagenet=False\n",
        "remove_mean_samplewise=False\n",
        "remove_mean_dataset=False\n",
        "if mean_type == 'imagenet':\n",
        "    remove_mean_imagenet = True;\n",
        "elif mean_type == 'sample':\n",
        "    remove_mean_samplewise = True\n",
        "elif mean_type == 'dataset':\n",
        "    remove_mean_dataset = True\n",
        "    train_mean = np.array([[[ 180.71656799]],[[ 151.13494873]],[[ 139.89967346]]]);\n",
        "    train_std = np.array([[[1]],[[1]],[[ 1]]]); # not using std\n",
        "else:\n",
        "    raise Exception(\"Wrong mean type\")\n",
        "    \n",
        "loss_options = {'BCE': 'binary_crossentropy', 'mse':'mean_squared_error'}\n",
        "optimizer_options = {'adam': Adam(lr=1e-5),\n",
        "                     'sgd': SGD(lr=0.01, decay=1e-6, momentum=0.9, nesterov=True)}\n",
        "\n",
        "loss = loss_options[loss_param]\n",
        "optimizer = optimizer_options[optimizer_param]\n",
        "model_filename = \"weights/{}.h5\".format(model_name)"
      ],
      "execution_count": 0,
      "outputs": []
    },
    {
      "metadata": {
        "id": "R0p8s6ErHNmV",
        "colab_type": "code",
        "colab": {
          "autoexec": {
            "startup": false,
            "wait_interval": 0
          },
          "base_uri": "https://localhost:8080/",
          "height": 34
        },
        "outputId": "ba991e74-5e8d-4bca-f816-d6c7358e957f",
        "executionInfo": {
          "status": "ok",
          "timestamp": 1523256499944,
          "user_tz": -330,
          "elapsed": 2008,
          "user": {
            "displayName": "Manoj Yadav",
            "photoUrl": "//lh3.googleusercontent.com/-3TirNiF73Uo/AAAAAAAAAAI/AAAAAAAABk4/_AePPFWcRMc/s50-c-k-no/photo.jpg",
            "userId": "109114430547138668616"
          }
        }
      },
      "cell_type": "code",
      "source": [
        "mkdir weights"
      ],
      "execution_count": 11,
      "outputs": [
        {
          "output_type": "stream",
          "text": [
            "mkdir: cannot create directory ‘weights’: File exists\r\n"
          ],
          "name": "stdout"
        }
      ]
    },
    {
      "metadata": {
        "id": "Ri6ED8vSHTp4",
        "colab_type": "code",
        "colab": {
          "autoexec": {
            "startup": false,
            "wait_interval": 0
          },
          "base_uri": "https://localhost:8080/",
          "height": 34
        },
        "outputId": "3e9bb3a1-36c9-4aad-b9a1-c62271116ab7",
        "executionInfo": {
          "status": "ok",
          "timestamp": 1523256502144,
          "user_tz": -330,
          "elapsed": 2120,
          "user": {
            "displayName": "Manoj Yadav",
            "photoUrl": "//lh3.googleusercontent.com/-3TirNiF73Uo/AAAAAAAAAAI/AAAAAAAABk4/_AePPFWcRMc/s50-c-k-no/photo.jpg",
            "userId": "109114430547138668616"
          }
        }
      },
      "cell_type": "code",
      "source": [
        "mkdir results"
      ],
      "execution_count": 12,
      "outputs": [
        {
          "output_type": "stream",
          "text": [
            "mkdir: cannot create directory ‘results’: File exists\r\n"
          ],
          "name": "stdout"
        }
      ]
    },
    {
      "metadata": {
        "id": "oOj5KUVw_zW7",
        "colab_type": "code",
        "colab": {
          "autoexec": {
            "startup": false,
            "wait_interval": 0
          },
          "base_uri": "https://localhost:8080/",
          "height": 51
        },
        "outputId": "ee462370-64b2-4fb3-b843-7ea1e66beea6",
        "executionInfo": {
          "status": "ok",
          "timestamp": 1523256504421,
          "user_tz": -330,
          "elapsed": 2203,
          "user": {
            "displayName": "Manoj Yadav",
            "photoUrl": "//lh3.googleusercontent.com/-3TirNiF73Uo/AAAAAAAAAAI/AAAAAAAABk4/_AePPFWcRMc/s50-c-k-no/photo.jpg",
            "userId": "109114430547138668616"
          }
        }
      },
      "cell_type": "code",
      "source": [
        "ls"
      ],
      "execution_count": 13,
      "outputs": [
        {
          "output_type": "stream",
          "text": [
            "\u001b[0m\u001b[01;34mdatalab\u001b[0m/  segmentation_train_log.csv  test.npy        train.npy     val.npy\r\n",
            "\u001b[01;34mresults\u001b[0m/  test_mask.npy               train_mask.npy  val_mask.npy  \u001b[01;34mweights\u001b[0m/\r\n"
          ],
          "name": "stdout"
        }
      ]
    },
    {
      "metadata": {
        "id": "sEWHrHVh_3pf",
        "colab_type": "code",
        "colab": {
          "autoexec": {
            "startup": false,
            "wait_interval": 0
          }
        }
      },
      "cell_type": "code",
      "source": [
        "def myGenerator(train_generator, train_mask_generator, \n",
        "                remove_mean_imagenet=True, rescale_mask=True, use_hsv=False):\n",
        "    while True:\n",
        "        train_gen = next(train_generator)\n",
        "        train_mask = next(train_mask_generator)\n",
        "                \n",
        "        if False: # use True to show images\n",
        "            mask_true_show = np.where(train_mask>=0.5, 1, 0)\n",
        "            mask_true_show = mask_true_show * 255\n",
        "            mask_true_show = mask_true_show.astype(np.uint8)\n",
        "            for i in range(train_gen.shape[0]):\n",
        "                mask = train_mask[i].reshape((width,height))\n",
        "                img=train_gen[i]\n",
        "                img = img[0:3]\n",
        "                img = img.astype(np.uint8)\n",
        "                img = img.transpose(1,2,0)\n",
        "                f, ax = plt.subplots(1, 2)\n",
        "                ax[0].imshow(img); ax[0].axis(\"off\");\n",
        "                ax[1].imshow(mask, cmap='Greys_r'); ax[1].axis(\"off\"); plt.show()\n",
        "        yield (train_gen, train_mask)\n"
      ],
      "execution_count": 0,
      "outputs": []
    },
    {
      "metadata": {
        "id": "D5Ulb1uR72vl",
        "colab_type": "code",
        "colab": {
          "autoexec": {
            "startup": false,
            "wait_interval": 0
          }
        }
      },
      "cell_type": "code",
      "source": [
        "def seg_model(img_rows, img_cols, loss , optimizer, metrics, fc_size = 8192, channels = 3):\n",
        "    filter_size = 5\n",
        "    filter_size_2 = 11\n",
        "    dropout_a = 0.5\n",
        "    dropout_b = 0.5\n",
        "    dropout_c = 0.5\n",
        "    gaussian_noise_std = 0.025\n",
        "\n",
        "    inputs = Input((channels, img_rows, img_cols))\n",
        "    input_with_noise = GaussianNoise(gaussian_noise_std)(inputs)\n",
        "\n",
        "    conv1 = Conv2D(32, (filter_size, filter_size), activation='relu', padding='same')(input_with_noise)\n",
        "    conv1 = Conv2D(32, (filter_size, filter_size), activation='relu', padding='same')(conv1)\n",
        "    conv1 = Conv2D(32, (filter_size, filter_size), activation='relu', padding='same')(conv1)\n",
        "    pool1 = MaxPooling2D((2, 2), strides=(2, 2))(conv1)\n",
        "    pool1 = GaussianNoise(gaussian_noise_std)(pool1)\n",
        "\n",
        "    conv2 = Conv2D(64, (filter_size, filter_size), activation='relu', padding='same')(pool1)\n",
        "    conv2 = Conv2D(64, (filter_size, filter_size), activation='relu', padding='same')(conv2)\n",
        "    conv2 = Conv2D(64, (filter_size, filter_size), activation='relu', padding='same')(conv2)\n",
        "    pool2 = MaxPooling2D((2, 2), strides=(2, 2))(conv2)\n",
        "    pool2 = GaussianNoise(gaussian_noise_std)(pool2)\n",
        "\n",
        "    conv3 = Conv2D(128, (filter_size, filter_size), activation='relu', padding='same')(pool2)\n",
        "    conv3 = Conv2D(128, (filter_size, filter_size), activation='relu', padding='same')(conv3)\n",
        "    conv3 = Conv2D(128, (filter_size, filter_size), activation='relu', padding='same')(conv3)\n",
        "    pool3 = MaxPooling2D((2, 2), strides=(2, 2))(conv3)\n",
        "    pool3 = Dropout(dropout_a)(pool3)\n",
        "\n",
        "    fc = Flatten()(pool3)\n",
        "    fc = Dense(fc_size, activation='relu')(fc)\n",
        "    fc = Dropout(dropout_b)(fc)\n",
        "\n",
        "    n = img_rows/2/2/2\n",
        "    fc = Dense(128*n*n, activation='relu')(fc)\n",
        "    fc = GaussianNoise(gaussian_noise_std)(fc)\n",
        "    fc = Reshape((128,n,n))(fc)\n",
        "\n",
        "    up1 = merge([UpSampling2D(size=(2, 2))(fc), conv3], mode='concat', concat_axis=1)\n",
        "    up1 = Dropout(dropout_c)(up1)\n",
        "\n",
        "    conv4 = Conv2D(128, (filter_size_2, filter_size_2), activation='relu', padding='same')(up1)\n",
        "    conv4 = Conv2D(128, (filter_size, filter_size), activation='relu', padding='same')(conv4)\n",
        "    conv4 = Conv2D(64, (filter_size, filter_size), activation='relu', padding='same')(conv4)\n",
        "\n",
        "    up2 = merge([UpSampling2D(size=(2, 2))(conv4), conv2], mode='concat', concat_axis=1)\n",
        "    up2 = Dropout(dropout_c)(up2)\n",
        "\n",
        "    conv5 = Conv2D(64, (filter_size_2, filter_size_2), activation='relu', padding='same')(up2)\n",
        "    conv5 = Conv2D(64, (filter_size, filter_size), activation='relu', padding='same')(conv5)\n",
        "    conv5 = Conv2D(32, (filter_size, filter_size), activation='relu', padding='same')(conv5)\n",
        "\n",
        "    up3 = merge([UpSampling2D(size=(2, 2))(conv5), conv1], mode='concat', concat_axis=1)\n",
        "    up3 = Dropout(dropout_c)(up3)\n",
        "\n",
        "    conv6 = Conv2D(32, (filter_size_2, filter_size_2), activation='relu', padding='same')(up3)\n",
        "    conv6 = Conv2D(32, (filter_size, filter_size), activation='relu', padding='same')(conv6)\n",
        "    conv6 = Conv2D(32, (filter_size, filter_size), activation='relu', padding='same')(conv6)\n",
        "\n",
        "    conv7 = Conv2D(1, 1, 1, activation='sigmoid')(conv6)\n",
        "\n",
        "    model = Model(input=inputs, output=conv7)\n",
        "\n",
        "    model.compile(optimizer=optimizer, loss=loss, metrics=metrics)\n",
        "\n",
        "    return model"
      ],
      "execution_count": 0,
      "outputs": []
    },
    {
      "metadata": {
        "id": "cZ5huYCY8G0I",
        "colab_type": "code",
        "colab": {
          "autoexec": {
            "startup": false,
            "wait_interval": 0
          },
          "base_uri": "https://localhost:8080/",
          "height": 156
        },
        "outputId": "4f9bdbcf-a6ba-4751-e096-1b203837b2a3",
        "executionInfo": {
          "status": "ok",
          "timestamp": 1523256509597,
          "user_tz": -330,
          "elapsed": 2113,
          "user": {
            "displayName": "Manoj Yadav",
            "photoUrl": "//lh3.googleusercontent.com/-3TirNiF73Uo/AAAAAAAAAAI/AAAAAAAABk4/_AePPFWcRMc/s50-c-k-no/photo.jpg",
            "userId": "109114430547138668616"
          }
        }
      },
      "cell_type": "code",
      "source": [
        " model = seg_model(height,width, loss=loss, optimizer = optimizer, metrics = metrics, fc_size = fc_size, channels=n_channels)"
      ],
      "execution_count": 16,
      "outputs": [
        {
          "output_type": "stream",
          "text": [
            "/usr/local/lib/python2.7/dist-packages/ipykernel_launcher.py:39: UserWarning: The `merge` function is deprecated and will be removed after 08/2017. Use instead layers from `keras.layers.merge`, e.g. `add`, `concatenate`, etc.\n",
            "/usr/local/lib/python2.7/dist-packages/keras/legacy/layers.py:465: UserWarning: The `Merge` layer is deprecated and will be removed after 08/2017. Use instead layers from `keras.layers.merge`, e.g. `add`, `concatenate`, etc.\n",
            "  name=name)\n",
            "/usr/local/lib/python2.7/dist-packages/ipykernel_launcher.py:46: UserWarning: The `merge` function is deprecated and will be removed after 08/2017. Use instead layers from `keras.layers.merge`, e.g. `add`, `concatenate`, etc.\n",
            "/usr/local/lib/python2.7/dist-packages/ipykernel_launcher.py:53: UserWarning: The `merge` function is deprecated and will be removed after 08/2017. Use instead layers from `keras.layers.merge`, e.g. `add`, `concatenate`, etc.\n",
            "/usr/local/lib/python2.7/dist-packages/ipykernel_launcher.py:60: UserWarning: Update your `Conv2D` call to the Keras 2 API: `Conv2D(1, (1, 1), activation=\"sigmoid\")`\n",
            "/usr/local/lib/python2.7/dist-packages/ipykernel_launcher.py:62: UserWarning: Update your `Model` call to the Keras 2 API: `Model(outputs=Tensor(\"co..., inputs=Tensor(\"in...)`\n"
          ],
          "name": "stderr"
        }
      ]
    },
    {
      "metadata": {
        "id": "SJlRNBL1CgRS",
        "colab_type": "code",
        "colab": {
          "autoexec": {
            "startup": false,
            "wait_interval": 0
          },
          "base_uri": "https://localhost:8080/",
          "height": 1615
        },
        "outputId": "82db004a-d17b-4de9-f3c9-0bfa4adb04b4",
        "executionInfo": {
          "status": "ok",
          "timestamp": 1523256510882,
          "user_tz": -330,
          "elapsed": 1225,
          "user": {
            "displayName": "Manoj Yadav",
            "photoUrl": "//lh3.googleusercontent.com/-3TirNiF73Uo/AAAAAAAAAAI/AAAAAAAABk4/_AePPFWcRMc/s50-c-k-no/photo.jpg",
            "userId": "109114430547138668616"
          }
        }
      },
      "cell_type": "code",
      "source": [
        "model.summary()"
      ],
      "execution_count": 17,
      "outputs": [
        {
          "output_type": "stream",
          "text": [
            "__________________________________________________________________________________________________\n",
            "Layer (type)                    Output Shape         Param #     Connected to                     \n",
            "==================================================================================================\n",
            "input_1 (InputLayer)            (None, 3, 128, 128)  0                                            \n",
            "__________________________________________________________________________________________________\n",
            "gaussian_noise_1 (GaussianNoise (None, 3, 128, 128)  0           input_1[0][0]                    \n",
            "__________________________________________________________________________________________________\n",
            "conv2d_1 (Conv2D)               (None, 32, 128, 128) 2432        gaussian_noise_1[0][0]           \n",
            "__________________________________________________________________________________________________\n",
            "conv2d_2 (Conv2D)               (None, 32, 128, 128) 25632       conv2d_1[0][0]                   \n",
            "__________________________________________________________________________________________________\n",
            "conv2d_3 (Conv2D)               (None, 32, 128, 128) 25632       conv2d_2[0][0]                   \n",
            "__________________________________________________________________________________________________\n",
            "max_pooling2d_1 (MaxPooling2D)  (None, 32, 64, 64)   0           conv2d_3[0][0]                   \n",
            "__________________________________________________________________________________________________\n",
            "gaussian_noise_2 (GaussianNoise (None, 32, 64, 64)   0           max_pooling2d_1[0][0]            \n",
            "__________________________________________________________________________________________________\n",
            "conv2d_4 (Conv2D)               (None, 64, 64, 64)   51264       gaussian_noise_2[0][0]           \n",
            "__________________________________________________________________________________________________\n",
            "conv2d_5 (Conv2D)               (None, 64, 64, 64)   102464      conv2d_4[0][0]                   \n",
            "__________________________________________________________________________________________________\n",
            "conv2d_6 (Conv2D)               (None, 64, 64, 64)   102464      conv2d_5[0][0]                   \n",
            "__________________________________________________________________________________________________\n",
            "max_pooling2d_2 (MaxPooling2D)  (None, 64, 32, 32)   0           conv2d_6[0][0]                   \n",
            "__________________________________________________________________________________________________\n",
            "gaussian_noise_3 (GaussianNoise (None, 64, 32, 32)   0           max_pooling2d_2[0][0]            \n",
            "__________________________________________________________________________________________________\n",
            "conv2d_7 (Conv2D)               (None, 128, 32, 32)  204928      gaussian_noise_3[0][0]           \n",
            "__________________________________________________________________________________________________\n",
            "conv2d_8 (Conv2D)               (None, 128, 32, 32)  409728      conv2d_7[0][0]                   \n",
            "__________________________________________________________________________________________________\n",
            "conv2d_9 (Conv2D)               (None, 128, 32, 32)  409728      conv2d_8[0][0]                   \n",
            "__________________________________________________________________________________________________\n",
            "max_pooling2d_3 (MaxPooling2D)  (None, 128, 16, 16)  0           conv2d_9[0][0]                   \n",
            "__________________________________________________________________________________________________\n",
            "dropout_1 (Dropout)             (None, 128, 16, 16)  0           max_pooling2d_3[0][0]            \n",
            "__________________________________________________________________________________________________\n",
            "flatten_1 (Flatten)             (None, 32768)        0           dropout_1[0][0]                  \n",
            "__________________________________________________________________________________________________\n",
            "dense_1 (Dense)                 (None, 2048)         67110912    flatten_1[0][0]                  \n",
            "__________________________________________________________________________________________________\n",
            "dropout_2 (Dropout)             (None, 2048)         0           dense_1[0][0]                    \n",
            "__________________________________________________________________________________________________\n",
            "dense_2 (Dense)                 (None, 32768)        67141632    dropout_2[0][0]                  \n",
            "__________________________________________________________________________________________________\n",
            "gaussian_noise_4 (GaussianNoise (None, 32768)        0           dense_2[0][0]                    \n",
            "__________________________________________________________________________________________________\n",
            "reshape_1 (Reshape)             (None, 128, 16, 16)  0           gaussian_noise_4[0][0]           \n",
            "__________________________________________________________________________________________________\n",
            "up_sampling2d_1 (UpSampling2D)  (None, 128, 32, 32)  0           reshape_1[0][0]                  \n",
            "__________________________________________________________________________________________________\n",
            "merge_1 (Merge)                 (None, 256, 32, 32)  0           up_sampling2d_1[0][0]            \n",
            "                                                                 conv2d_9[0][0]                   \n",
            "__________________________________________________________________________________________________\n",
            "dropout_3 (Dropout)             (None, 256, 32, 32)  0           merge_1[0][0]                    \n",
            "__________________________________________________________________________________________________\n",
            "conv2d_10 (Conv2D)              (None, 128, 32, 32)  3965056     dropout_3[0][0]                  \n",
            "__________________________________________________________________________________________________\n",
            "conv2d_11 (Conv2D)              (None, 128, 32, 32)  409728      conv2d_10[0][0]                  \n",
            "__________________________________________________________________________________________________\n",
            "conv2d_12 (Conv2D)              (None, 64, 32, 32)   204864      conv2d_11[0][0]                  \n",
            "__________________________________________________________________________________________________\n",
            "up_sampling2d_2 (UpSampling2D)  (None, 64, 64, 64)   0           conv2d_12[0][0]                  \n",
            "__________________________________________________________________________________________________\n",
            "merge_2 (Merge)                 (None, 128, 64, 64)  0           up_sampling2d_2[0][0]            \n",
            "                                                                 conv2d_6[0][0]                   \n",
            "__________________________________________________________________________________________________\n",
            "dropout_4 (Dropout)             (None, 128, 64, 64)  0           merge_2[0][0]                    \n",
            "__________________________________________________________________________________________________\n",
            "conv2d_13 (Conv2D)              (None, 64, 64, 64)   991296      dropout_4[0][0]                  \n",
            "__________________________________________________________________________________________________\n",
            "conv2d_14 (Conv2D)              (None, 64, 64, 64)   102464      conv2d_13[0][0]                  \n",
            "__________________________________________________________________________________________________\n",
            "conv2d_15 (Conv2D)              (None, 32, 64, 64)   51232       conv2d_14[0][0]                  \n",
            "__________________________________________________________________________________________________\n",
            "up_sampling2d_3 (UpSampling2D)  (None, 32, 128, 128) 0           conv2d_15[0][0]                  \n",
            "__________________________________________________________________________________________________\n",
            "merge_3 (Merge)                 (None, 64, 128, 128) 0           up_sampling2d_3[0][0]            \n",
            "                                                                 conv2d_3[0][0]                   \n",
            "__________________________________________________________________________________________________\n",
            "dropout_5 (Dropout)             (None, 64, 128, 128) 0           merge_3[0][0]                    \n",
            "__________________________________________________________________________________________________\n",
            "conv2d_16 (Conv2D)              (None, 32, 128, 128) 247840      dropout_5[0][0]                  \n",
            "__________________________________________________________________________________________________\n",
            "conv2d_17 (Conv2D)              (None, 32, 128, 128) 25632       conv2d_16[0][0]                  \n",
            "__________________________________________________________________________________________________\n",
            "conv2d_18 (Conv2D)              (None, 32, 128, 128) 25632       conv2d_17[0][0]                  \n",
            "__________________________________________________________________________________________________\n",
            "conv2d_19 (Conv2D)              (None, 1, 128, 128)  33          conv2d_18[0][0]                  \n",
            "==================================================================================================\n",
            "Total params: 141,610,593\n",
            "Trainable params: 141,610,593\n",
            "Non-trainable params: 0\n",
            "__________________________________________________________________________________________________\n"
          ],
          "name": "stdout"
        }
      ]
    },
    {
      "metadata": {
        "id": "BRKJSTsc8Rsa",
        "colab_type": "code",
        "colab": {
          "autoexec": {
            "startup": false,
            "wait_interval": 0
          }
        }
      },
      "cell_type": "code",
      "source": [
        "model_checkpoint = ModelCheckpoint(model_filename, monitor=monitor_metric, save_best_only=True, verbose=1)\n",
        "data_gen_args = dict(featurewise_center=False, \n",
        "                            samplewise_center=remove_mean_samplewise, \n",
        "                            featurewise_std_normalization=False, \n",
        "                            samplewise_std_normalization=False, \n",
        "                            zca_whitening=False, \n",
        "                            rotation_range=270, \n",
        "                            width_shift_range=0.1, \n",
        "                            height_shift_range=0.1, \n",
        "                            horizontal_flip=False, \n",
        "                            vertical_flip=False, \n",
        "                            zoom_range=0.2,\n",
        "                            channel_shift_range=0,\n",
        "                            fill_mode='reflect')\n",
        "data_gen_mask_args = dict(data_gen_args.items() + {'fill_mode':'nearest','samplewise_center':False}.items())"
      ],
      "execution_count": 0,
      "outputs": []
    },
    {
      "metadata": {
        "id": "y8nsbgNCAMF6",
        "colab_type": "code",
        "colab": {
          "autoexec": {
            "startup": false,
            "wait_interval": 0
          }
        }
      },
      "cell_type": "code",
      "source": [
        "train_datagen = ImageDataGenerator(**data_gen_args)\n",
        "train_mask_datagen = ImageDataGenerator(**data_gen_mask_args)\n",
        "train_generator = train_datagen.flow(train, batch_size=batch_size, seed=seed)\n",
        "train_mask_generator = train_mask_datagen.flow(train_mask, batch_size=batch_size, seed=seed)\n",
        "train_generator_f = myGenerator(train_generator, train_mask_generator, \n",
        "                                   remove_mean_imagenet=remove_mean_imagenet,\n",
        "                                    rescale_mask=rescale_mask, use_hsv=use_hsv)"
      ],
      "execution_count": 0,
      "outputs": []
    },
    {
      "metadata": {
        "id": "I6iApRbIAWWz",
        "colab_type": "code",
        "colab": {
          "autoexec": {
            "startup": false,
            "wait_interval": 0
          }
        }
      },
      "cell_type": "code",
      "source": [
        "early_stopper = EarlyStopping(min_delta=0.001, patience=5)\n",
        "csv_logger = CSVLogger('segmentation_train_log.csv')"
      ],
      "execution_count": 0,
      "outputs": []
    },
    {
      "metadata": {
        "id": "jinZwrQ7A3eN",
        "colab_type": "code",
        "colab": {
          "autoexec": {
            "startup": false,
            "wait_interval": 0
          }
        }
      },
      "cell_type": "code",
      "source": [
        "n_samples = train.shape[0]"
      ],
      "execution_count": 0,
      "outputs": []
    },
    {
      "metadata": {
        "id": "JsTx07TBBpWN",
        "colab_type": "code",
        "colab": {
          "autoexec": {
            "startup": false,
            "wait_interval": 0
          },
          "base_uri": "https://localhost:8080/",
          "height": 1227
        },
        "outputId": "c9220181-2966-43ee-98d0-0a7c144f7382"
      },
      "cell_type": "code",
      "source": [
        "history = model.fit_generator(\n",
        "            train_generator_f,\n",
        "            samples_per_epoch=n_samples,\n",
        "            nb_epoch=nb_epoch, validation_data=(val,val_mask), \n",
        "            callbacks=[model_checkpoint,early_stopper,csv_logger], initial_epoch=initial_epoch)"
      ],
      "execution_count": 0,
      "outputs": [
        {
          "output_type": "stream",
          "text": [
            "/usr/local/lib/python2.7/dist-packages/ipykernel_launcher.py:5: UserWarning: The semantics of the Keras 2 argument `steps_per_epoch` is not the same as the Keras 1 argument `samples_per_epoch`. `steps_per_epoch` is the number of batches to draw from the generator at each epoch. Basically steps_per_epoch = samples_per_epoch/batch_size. Similarly `nb_val_samples`->`validation_steps` and `val_samples`->`steps` arguments have changed. Update your method calls accordingly.\n",
            "  \"\"\"\n",
            "/usr/local/lib/python2.7/dist-packages/ipykernel_launcher.py:5: UserWarning: Update your `fit_generator` call to the Keras 2 API: `fit_generator(<generator..., initial_epoch=0, validation_data=(array([[[..., steps_per_epoch=1279, epochs=20, callbacks=[<keras.ca...)`\n",
            "  \"\"\"\n"
          ],
          "name": "stderr"
        },
        {
          "output_type": "stream",
          "text": [
            "Epoch 1/20\n",
            "1278/1279 [============================>.] - ETA: 0s - loss: 0.2683 - acc: 0.8944"
          ],
          "name": "stdout"
        },
        {
          "output_type": "stream",
          "text": [
            "\b\b\b\b\b\b\b\b\b\b\b\b\b\b\b\b\b\b\b\b\b\b\b\b\b\b\b\b\b\b\b\b\b\b\b\b\b\b\b\b\b\b\b\b\b\b\b\b\b\b\b\b\b\b\b\b\b\b\b\b\b\b\b\b\b\b\b\b\b\b\b\b\b\b\b\b\b\b\b\b\b\r1279/1279 [==============================] - 645s 504ms/step - loss: 0.2682 - acc: 0.8944 - val_loss: 0.1558 - val_acc: 0.9445\n",
            "\n",
            "Epoch 00001: val_acc improved from -inf to 0.94454, saving model to weights/model1.h5\n",
            "Epoch 2/20\n",
            " 254/1279 [====>.........................] - ETA: 8:23 - loss: 0.1783 - acc: 0.9293"
          ],
          "name": "stdout"
        },
        {
          "output_type": "stream",
          "text": [
            "1279/1279 [==============================] - 639s 499ms/step - loss: 0.1625 - acc: 0.9338 - val_loss: 0.1490 - val_acc: 0.9505\n",
            "\n",
            "Epoch 00002: val_acc improved from 0.94454 to 0.95048, saving model to weights/model1.h5\n",
            "Epoch 3/20\n",
            "  46/1279 [>.............................] - ETA: 10:04 - loss: 0.1255 - acc: 0.9453"
          ],
          "name": "stdout"
        },
        {
          "output_type": "stream",
          "text": [
            "1278/1279 [============================>.] - ETA: 0s - loss: 0.1387 - acc: 0.9404"
          ],
          "name": "stdout"
        },
        {
          "output_type": "stream",
          "text": [
            "\b\b\b\b\b\b\b\b\b\b\b\b\b\b\b\b\b\b\b\b\b\b\b\b\b\b\b\b\b\b\b\b\b\b\b\b\b\b\b\b\b\b\b\b\b\b\b\b\b\b\b\b\b\b\b\b\b\b\b\b\b\b\b\b\b\b\b\b\b\b\b\b\b\b\b\b\b\b\b\b\b\r1279/1279 [==============================] - 639s 499ms/step - loss: 0.1386 - acc: 0.9404 - val_loss: 0.1546 - val_acc: 0.9468\n",
            "\n",
            "Epoch 00003: val_acc did not improve\n",
            "Epoch 4/20\n",
            " 291/1279 [=====>........................] - ETA: 8:04 - loss: 0.1304 - acc: 0.9429"
          ],
          "name": "stdout"
        },
        {
          "output_type": "stream",
          "text": [
            "1279/1279 [==============================] - 639s 499ms/step - loss: 0.1279 - acc: 0.9437 - val_loss: 0.1527 - val_acc: 0.9457\n",
            "\n",
            "Epoch 00004: val_acc did not improve\n",
            "Epoch 5/20\n",
            "  68/1279 [>.............................] - ETA: 9:53 - loss: 0.1175 - acc: 0.9467"
          ],
          "name": "stdout"
        },
        {
          "output_type": "stream",
          "text": [
            "1278/1279 [============================>.] - ETA: 0s - loss: 0.1210 - acc: 0.9453"
          ],
          "name": "stdout"
        },
        {
          "output_type": "stream",
          "text": [
            "\b\b\b\b\b\b\b\b\b\b\b\b\b\b\b\b\b\b\b\b\b\b\b\b\b\b\b\b\b\b\b\b\b\b\b\b\b\b\b\b\b\b\b\b\b\b\b\b\b\b\b\b\b\b\b\b\b\b\b\b\b\b\b\b\b\b\b\b\b\b\b\b\b\b\b\b\b\b\b\b\b\r1279/1279 [==============================] - 638s 499ms/step - loss: 0.1209 - acc: 0.9453 - val_loss: 0.1116 - val_acc: 0.9559\n",
            "\n",
            "Epoch 00005: val_acc improved from 0.95048 to 0.95591, saving model to weights/model1.h5\n",
            "Epoch 6/20\n",
            " 252/1279 [====>.........................] - ETA: 8:23 - loss: 0.1147 - acc: 0.9472"
          ],
          "name": "stdout"
        },
        {
          "output_type": "stream",
          "text": [
            "1279/1279 [==============================] - 638s 499ms/step - loss: 0.1136 - acc: 0.9479 - val_loss: 0.1180 - val_acc: 0.9543\n",
            "\n",
            "Epoch 00006: val_acc did not improve\n",
            "Epoch 7/20\n",
            "  56/1279 [>.............................] - ETA: 9:58 - loss: 0.1286 - acc: 0.9417"
          ],
          "name": "stdout"
        },
        {
          "output_type": "stream",
          "text": [
            "1278/1279 [============================>.] - ETA: 0s - loss: 0.1104 - acc: 0.9488"
          ],
          "name": "stdout"
        },
        {
          "output_type": "stream",
          "text": [
            "\b\b\b\b\b\b\b\b\b\b\b\b\b\b\b\b\b\b\b\b\b\b\b\b\b\b\b\b\b\b\b\b\b\b\b\b\b\b\b\b\b\b\b\b\b\b\b\b\b\b\b\b\b\b\b\b\b\b\b\b\b\b\b\b\b\b\b\b\b\b\b\b\b\b\b\b\b\b\b\b\b\r1279/1279 [==============================] - 638s 499ms/step - loss: 0.1105 - acc: 0.9487 - val_loss: 0.1167 - val_acc: 0.9560\n",
            "\n",
            "Epoch 00007: val_acc improved from 0.95591 to 0.95597, saving model to weights/model1.h5\n",
            "Epoch 8/20\n",
            " 252/1279 [====>.........................] - ETA: 8:23 - loss: 0.1163 - acc: 0.9474"
          ],
          "name": "stdout"
        },
        {
          "output_type": "stream",
          "text": [
            "1279/1279 [==============================] - 638s 499ms/step - loss: 0.1091 - acc: 0.9489 - val_loss: 0.1280 - val_acc: 0.9535\n",
            "\n",
            "Epoch 00008: val_acc did not improve\n",
            "Epoch 9/20\n",
            "  56/1279 [>.............................] - ETA: 9:57 - loss: 0.1028 - acc: 0.9511"
          ],
          "name": "stdout"
        },
        {
          "output_type": "stream",
          "text": [
            "1278/1279 [============================>.] - ETA: 0s - loss: 0.1038 - acc: 0.9508"
          ],
          "name": "stdout"
        },
        {
          "output_type": "stream",
          "text": [
            "\b\b\b\b\b\b\b\b\b\b\b\b\b\b\b\b\b\b\b\b\b\b\b\b\b\b\b\b\b\b\b\b\b\b\b\b\b\b\b\b\b\b\b\b\b\b\b\b\b\b\b\b\b\b\b\b\b\b\b\b\b\b\b\b\b\b\b\b\b\b\b\b\b\b\b\b\b\b\b\b\b\r1279/1279 [==============================] - 637s 498ms/step - loss: 0.1037 - acc: 0.9508 - val_loss: 0.1065 - val_acc: 0.9601\n",
            "\n",
            "Epoch 00009: val_acc improved from 0.95597 to 0.96009, saving model to weights/model1.h5\n",
            "Epoch 10/20\n",
            " 251/1279 [====>.........................] - ETA: 8:24 - loss: 0.0998 - acc: 0.9526"
          ],
          "name": "stdout"
        },
        {
          "output_type": "stream",
          "text": [
            "1279/1279 [==============================] - 638s 499ms/step - loss: 0.0980 - acc: 0.9528 - val_loss: 0.1031 - val_acc: 0.9587\n",
            "\n",
            "Epoch 00010: val_acc did not improve\n",
            "Epoch 11/20\n",
            "  55/1279 [>.............................] - ETA: 9:58 - loss: 0.1084 - acc: 0.9528"
          ],
          "name": "stdout"
        },
        {
          "output_type": "stream",
          "text": [
            "1278/1279 [============================>.] - ETA: 0s - loss: 0.0981 - acc: 0.9529"
          ],
          "name": "stdout"
        },
        {
          "output_type": "stream",
          "text": [
            "\b\b\b\b\b\b\b\b\b\b\b\b\b\b\b\b\b\b\b\b\b\b\b\b\b\b\b\b\b\b\b\b\b\b\b\b\b\b\b\b\b\b\b\b\b\b\b\b\b\b\b\b\b\b\b\b\b\b\b\b\b\b\b\b\b\b\b\b\b\b\b\b\b\b\b\b\b\b\b\b\b\r1279/1279 [==============================] - 638s 499ms/step - loss: 0.0980 - acc: 0.9530 - val_loss: 0.0947 - val_acc: 0.9612\n",
            "\n",
            "Epoch 00011: val_acc improved from 0.96009 to 0.96116, saving model to weights/model1.h5\n",
            "Epoch 12/20\n",
            " 251/1279 [====>.........................] - ETA: 8:24 - loss: 0.0897 - acc: 0.9561"
          ],
          "name": "stdout"
        },
        {
          "output_type": "stream",
          "text": [
            "1279/1279 [==============================] - 638s 499ms/step - loss: 0.0945 - acc: 0.9542 - val_loss: 0.1093 - val_acc: 0.9584\n",
            "\n",
            "Epoch 00012: val_acc did not improve\n",
            "Epoch 13/20\n",
            "  55/1279 [>.............................] - ETA: 9:59 - loss: 0.1079 - acc: 0.9504 "
          ],
          "name": "stdout"
        },
        {
          "output_type": "stream",
          "text": [
            "1278/1279 [============================>.] - ETA: 0s - loss: 0.0940 - acc: 0.9543"
          ],
          "name": "stdout"
        },
        {
          "output_type": "stream",
          "text": [
            "\b\b\b\b\b\b\b\b\b\b\b\b\b\b\b\b\b\b\b\b\b\b\b\b\b\b\b\b\b\b\b\b\b\b\b\b\b\b\b\b\b\b\b\b\b\b\b\b\b\b\b\b\b\b\b\b\b\b\b\b\b\b\b\b\b\b\b\b\b\b\b\b\b\b\b\b\b\b\b\b\b\r1279/1279 [==============================] - 637s 498ms/step - loss: 0.0940 - acc: 0.9543 - val_loss: 0.0987 - val_acc: 0.9607\n",
            "\n",
            "Epoch 00013: val_acc did not improve\n",
            "Epoch 14/20\n",
            " 290/1279 [=====>........................] - ETA: 8:04 - loss: 0.0918 - acc: 0.9552"
          ],
          "name": "stdout"
        },
        {
          "output_type": "stream",
          "text": [
            "1279/1279 [==============================] - 637s 498ms/step - loss: 0.0907 - acc: 0.9555 - val_loss: 0.0960 - val_acc: 0.9621\n",
            "\n",
            "Epoch 00014: val_acc improved from 0.96116 to 0.96215, saving model to weights/model1.h5\n",
            "Epoch 15/20\n",
            "  55/1279 [>.............................] - ETA: 9:58 - loss: 0.0894 - acc: 0.9579"
          ],
          "name": "stdout"
        },
        {
          "output_type": "stream",
          "text": [
            "1278/1279 [============================>.] - ETA: 0s - loss: 0.0916 - acc: 0.9552"
          ],
          "name": "stdout"
        },
        {
          "output_type": "stream",
          "text": [
            "\b\b\b\b\b\b\b\b\b\b\b\b\b\b\b\b\b\b\b\b\b\b\b\b\b\b\b\b\b\b\b\b\b\b\b\b\b\b\b\b\b\b\b\b\b\b\b\b\b\b\b\b\b\b\b\b\b\b\b\b\b\b\b\b\b\b\b\b\b\b\b\b\b\b\b\b\b\b\b\b\b\r1279/1279 [==============================] - 637s 498ms/step - loss: 0.0917 - acc: 0.9551 - val_loss: 0.0915 - val_acc: 0.9633\n",
            "\n",
            "Epoch 00015: val_acc improved from 0.96215 to 0.96326, saving model to weights/model1.h5\n",
            "Epoch 16/20\n",
            " 251/1279 [====>.........................] - ETA: 8:23 - loss: 0.0937 - acc: 0.9545"
          ],
          "name": "stdout"
        },
        {
          "output_type": "stream",
          "text": [
            "1279/1279 [==============================] - 637s 498ms/step - loss: 0.0896 - acc: 0.9556 - val_loss: 0.1159 - val_acc: 0.9551\n",
            "\n",
            "Epoch 00016: val_acc did not improve\n",
            "Epoch 17/20\n",
            "  55/1279 [>.............................] - ETA: 9:57 - loss: 0.0954 - acc: 0.9530"
          ],
          "name": "stdout"
        },
        {
          "output_type": "stream",
          "text": [
            " 776/1279 [=================>............] - ETA: 4:06 - loss: 0.0874 - acc: 0.9565"
          ],
          "name": "stdout"
        }
      ]
    },
    {
      "metadata": {
        "id": "AaD-UDYaCVYF",
        "colab_type": "code",
        "colab": {
          "autoexec": {
            "startup": false,
            "wait_interval": 0
          }
        }
      },
      "cell_type": "code",
      "source": [
        "K.clear_session()"
      ],
      "execution_count": 0,
      "outputs": []
    },
    {
      "metadata": {
        "id": "VrnAgVjI-3Tz",
        "colab_type": "code",
        "colab": {
          "autoexec": {
            "startup": false,
            "wait_interval": 0
          },
          "base_uri": "https://localhost:8080/",
          "height": 34
        },
        "outputId": "9395c387-eb93-4cd8-8a51-a5abedcb15fb",
        "executionInfo": {
          "status": "ok",
          "timestamp": 1523270261914,
          "user_tz": -330,
          "elapsed": 1621,
          "user": {
            "displayName": "Manoj Yadav",
            "photoUrl": "//lh3.googleusercontent.com/-3TirNiF73Uo/AAAAAAAAAAI/AAAAAAAABk4/_AePPFWcRMc/s50-c-k-no/photo.jpg",
            "userId": "109114430547138668616"
          }
        }
      },
      "cell_type": "code",
      "source": [
        "cd .."
      ],
      "execution_count": 35,
      "outputs": [
        {
          "output_type": "stream",
          "text": [
            "/content\n"
          ],
          "name": "stdout"
        }
      ]
    },
    {
      "metadata": {
        "id": "0ZW7bTua7_xL",
        "colab_type": "code",
        "colab": {
          "autoexec": {
            "startup": false,
            "wait_interval": 0
          }
        }
      },
      "cell_type": "code",
      "source": [
        "file = drive.CreateFile({'parents':[{u'id': '1o_Sj1gEpFkLjnMuc6ouG6i7ppcyS2SgB'}]}) \n",
        "file.SetContentFile(\"segmentation_train_log.csv\")\n",
        "file.Upload()"
      ],
      "execution_count": 0,
      "outputs": []
    },
    {
      "metadata": {
        "id": "9KlqKQugAbJS",
        "colab_type": "code",
        "colab": {
          "autoexec": {
            "startup": false,
            "wait_interval": 0
          }
        }
      },
      "cell_type": "code",
      "source": [
        "model.load_weights('weights/model1.h5')"
      ],
      "execution_count": 0,
      "outputs": []
    },
    {
      "metadata": {
        "id": "CIecpyPN-Vul",
        "colab_type": "code",
        "colab": {
          "autoexec": {
            "startup": false,
            "wait_interval": 0
          },
          "base_uri": "https://localhost:8080/",
          "height": 51
        },
        "outputId": "dd2902a1-12ec-40e4-c9c6-ce5a7524deee",
        "executionInfo": {
          "status": "ok",
          "timestamp": 1523270710624,
          "user_tz": -330,
          "elapsed": 5411,
          "user": {
            "displayName": "Manoj Yadav",
            "photoUrl": "//lh3.googleusercontent.com/-3TirNiF73Uo/AAAAAAAAAAI/AAAAAAAABk4/_AePPFWcRMc/s50-c-k-no/photo.jpg",
            "userId": "109114430547138668616"
          }
        }
      },
      "cell_type": "code",
      "source": [
        "acc = model.evaluate(test,test_mask)\n",
        "print(\"Accuracy:%.4f\"%acc[1])"
      ],
      "execution_count": 41,
      "outputs": [
        {
          "output_type": "stream",
          "text": [
            "401/401 [==============================] - 5s 12ms/step\n",
            "Accuracy:0.9607\n"
          ],
          "name": "stdout"
        }
      ]
    },
    {
      "metadata": {
        "id": "4tp0No-LAExS",
        "colab_type": "code",
        "colab": {
          "autoexec": {
            "startup": false,
            "wait_interval": 0
          },
          "base_uri": "https://localhost:8080/",
          "height": 367
        },
        "outputId": "49980ee4-dce3-496f-fb99-16cce314aaad",
        "executionInfo": {
          "status": "ok",
          "timestamp": 1523271429082,
          "user_tz": -330,
          "elapsed": 1301,
          "user": {
            "displayName": "Manoj Yadav",
            "photoUrl": "//lh3.googleusercontent.com/-3TirNiF73Uo/AAAAAAAAAAI/AAAAAAAABk4/_AePPFWcRMc/s50-c-k-no/photo.jpg",
            "userId": "109114430547138668616"
          }
        }
      },
      "cell_type": "code",
      "source": [
        "gt = test_mask[3].reshape((128,128))\n",
        "plt.imshow(gt, cmap = \"gray\")"
      ],
      "execution_count": 57,
      "outputs": [
        {
          "output_type": "execute_result",
          "data": {
            "text/plain": [
              "<matplotlib.image.AxesImage at 0x7f5d9caa4650>"
            ]
          },
          "metadata": {
            "tags": []
          },
          "execution_count": 57
        },
        {
          "output_type": "display_data",
          "data": {
            "image/png": "[encoded data removed]",
            "text/plain": [
              "<matplotlib.figure.Figure at 0x7f5d9cb67590>"
            ]
          },
          "metadata": {
            "tags": []
          }
        }
      ]
    },
    {
      "metadata": {
        "id": "gO8WCAvqB3M_",
        "colab_type": "code",
        "colab": {
          "autoexec": {
            "startup": false,
            "wait_interval": 0
          }
        }
      },
      "cell_type": "code",
      "source": [
        "testing_image = test[3].reshape((1,3,128,128))"
      ],
      "execution_count": 0,
      "outputs": []
    },
    {
      "metadata": {
        "id": "d-BjSY17CaM1",
        "colab_type": "code",
        "colab": {
          "autoexec": {
            "startup": false,
            "wait_interval": 0
          },
          "base_uri": "https://localhost:8080/",
          "height": 367
        },
        "outputId": "4eead496-5d03-4dcf-ddf8-989bade563b7",
        "executionInfo": {
          "status": "ok",
          "timestamp": 1523271442160,
          "user_tz": -330,
          "elapsed": 868,
          "user": {
            "displayName": "Manoj Yadav",
            "photoUrl": "//lh3.googleusercontent.com/-3TirNiF73Uo/AAAAAAAAAAI/AAAAAAAABk4/_AePPFWcRMc/s50-c-k-no/photo.jpg",
            "userId": "109114430547138668616"
          }
        }
      },
      "cell_type": "code",
      "source": [
        "prediction = model.predict(testing_image)\n",
        "prediction = prediction.reshape((128,128))\n",
        "sample = prediction > 0.5\n",
        "plt.imshow(sample, cmap = \"gray\")"
      ],
      "execution_count": 59,
      "outputs": [
        {
          "output_type": "execute_result",
          "data": {
            "text/plain": [
              "<matplotlib.image.AxesImage at 0x7f5d9ca234d0>"
            ]
          },
          "metadata": {
            "tags": []
          },
          "execution_count": 59
        },
        {
          "output_type": "display_data",
          "data": {
            "image/png": "[encoded data removed]",
            "text/plain": [
              "<matplotlib.figure.Figure at 0x7f5d9efc35d0>"
            ]
          },
          "metadata": {
            "tags": []
          }
        }
      ]
    },
    {
      "metadata": {
        "id": "YRu-AkcIC8KX",
        "colab_type": "code",
        "colab": {
          "autoexec": {
            "startup": false,
            "wait_interval": 0
          }
        }
      },
      "cell_type": "code",
      "source": [
        ""
      ],
      "execution_count": 0,
      "outputs": []
    }
  ]
}